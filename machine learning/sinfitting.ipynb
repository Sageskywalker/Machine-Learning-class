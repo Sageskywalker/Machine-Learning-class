{
 "cells": [
  {
   "cell_type": "code",
   "execution_count": 77,
   "metadata": {},
   "outputs": [],
   "source": [
    "import numpy as np\n",
    "import matplotlib.pyplot as plt"
   ]
  },
  {
   "cell_type": "markdown",
   "metadata": {},
   "source": [
    "### 随机生成200个x点，范围在 [0, 2π]"
   ]
  },
  {
   "cell_type": "code",
   "execution_count": 78,
   "metadata": {},
   "outputs": [],
   "source": [
    "x = np.random.uniform(0, 2 * np.pi, 200)\n",
    "y_true = np.sin(x)\n",
    "x_normalized = (x - x.min()) / (x.max() - x.min())"
   ]
  },
  {
   "cell_type": "markdown",
   "metadata": {},
   "source": [
    "### 初始化"
   ]
  },
  {
   "cell_type": "code",
   "execution_count": 79,
   "metadata": {},
   "outputs": [],
   "source": [
    "a = np.random.randn(6)"
   ]
  },
  {
   "cell_type": "code",
   "execution_count": 80,
   "metadata": {},
   "outputs": [],
   "source": [
    "learning_rate = 0.1\n",
    "iterations = 1000000"
   ]
  },
  {
   "cell_type": "code",
   "execution_count": 81,
   "metadata": {},
   "outputs": [],
   "source": [
    "def polynomial(x, a):\n",
    "    return a[0] + a[1] * x + a[2] * x**2 + a[3] * x**3 + a[4] * x**4 + a[5] * x**5"
   ]
  },
  {
   "cell_type": "markdown",
   "metadata": {},
   "source": [
    "### loss function"
   ]
  },
  {
   "cell_type": "code",
   "execution_count": 82,
   "metadata": {},
   "outputs": [],
   "source": [
    "def loss_func(y_pred, y_true):\n",
    "    return np.mean((y_pred - y_true) ** 2)"
   ]
  },
  {
   "cell_type": "markdown",
   "metadata": {},
   "source": [
    "### 梯度下降"
   ]
  },
  {
   "cell_type": "code",
   "execution_count": 83,
   "metadata": {},
   "outputs": [
    {
     "name": "stdout",
     "output_type": "stream",
     "text": [
      "Iteration 0: Loss = 0.6200630690673427\n",
      "Iteration 5000: Loss = 0.11120187167284883\n",
      "Iteration 10000: Loss = 0.0665633664194454\n",
      "Iteration 15000: Loss = 0.044207921341399815\n",
      "Iteration 20000: Loss = 0.032940126578420506\n",
      "Iteration 25000: Loss = 0.027190481169714672\n",
      "Iteration 30000: Loss = 0.024188247549235414\n",
      "Iteration 35000: Loss = 0.02255501063886545\n",
      "Iteration 40000: Loss = 0.021605005079177685\n",
      "Iteration 45000: Loss = 0.020997043733727187\n",
      "Iteration 50000: Loss = 0.0205613599295775\n",
      "Iteration 55000: Loss = 0.020213465352916852\n",
      "Iteration 60000: Loss = 0.019911296278715036\n",
      "Iteration 65000: Loss = 0.019633894774374834\n",
      "Iteration 70000: Loss = 0.01937080306936668\n",
      "Iteration 75000: Loss = 0.019116787484432574\n",
      "Iteration 80000: Loss = 0.018869213697089826\n",
      "Iteration 85000: Loss = 0.018626740987512755\n",
      "Iteration 90000: Loss = 0.01838867264764664\n",
      "Iteration 95000: Loss = 0.01815463281690985\n",
      "Iteration 100000: Loss = 0.017924405707907102\n",
      "Iteration 105000: Loss = 0.017697855617640704\n",
      "Iteration 110000: Loss = 0.01747488712780597\n",
      "Iteration 115000: Loss = 0.01725542529836266\n",
      "Iteration 120000: Loss = 0.01703940580742304\n",
      "Iteration 125000: Loss = 0.016826770039315663\n",
      "Iteration 130000: Loss = 0.01661746263436152\n",
      "Iteration 135000: Loss = 0.01641143026340096\n",
      "Iteration 140000: Loss = 0.016208621011709362\n",
      "Iteration 145000: Loss = 0.016008984066170386\n",
      "Iteration 150000: Loss = 0.015812469553413422\n",
      "Iteration 155000: Loss = 0.015619028453149046\n",
      "Iteration 160000: Loss = 0.01542861254901081\n",
      "Iteration 165000: Loss = 0.015241174398150101\n",
      "Iteration 170000: Loss = 0.01505666731025363\n",
      "Iteration 175000: Loss = 0.014875045331339853\n",
      "Iteration 180000: Loss = 0.014696263230023989\n",
      "Iteration 185000: Loss = 0.014520276485099246\n",
      "Iteration 190000: Loss = 0.014347041273860802\n",
      "Iteration 195000: Loss = 0.01417651446088563\n",
      "Iteration 200000: Loss = 0.014008653587123466\n",
      "Iteration 205000: Loss = 0.01384341685922652\n",
      "Iteration 210000: Loss = 0.013680763139079996\n",
      "Iteration 215000: Loss = 0.013520651933513275\n",
      "Iteration 220000: Loss = 0.013363043384180874\n",
      "Iteration 225000: Loss = 0.01320789825760607\n",
      "Iteration 230000: Loss = 0.013055177935382694\n",
      "Iteration 235000: Loss = 0.01290484440453172\n",
      "Iteration 240000: Loss = 0.01275686024800929\n",
      "Iteration 245000: Loss = 0.012611188635363818\n",
      "Iteration 250000: Loss = 0.01246779331353991\n",
      "Iteration 255000: Loss = 0.012326638597826345\n",
      "Iteration 260000: Loss = 0.012187689362946102\n",
      "Iteration 265000: Loss = 0.012050911034285681\n",
      "Iteration 270000: Loss = 0.011916269579262782\n",
      "Iteration 275000: Loss = 0.011783731498828434\n",
      "Iteration 280000: Loss = 0.011653263819102793\n",
      "Iteration 285000: Loss = 0.011524834083142154\n",
      "Iteration 290000: Loss = 0.011398410342834562\n",
      "Iteration 295000: Loss = 0.011273961150923075\n",
      "Iteration 300000: Loss = 0.011151455553153649\n",
      "Iteration 305000: Loss = 0.011030863080546304\n",
      "Iteration 310000: Loss = 0.010912153741787308\n",
      "Iteration 315000: Loss = 0.010795298015740942\n",
      "Iteration 320000: Loss = 0.010680266844078284\n",
      "Iteration 325000: Loss = 0.010567031624021847\n",
      "Iteration 330000: Loss = 0.010455564201203608\n",
      "Iteration 335000: Loss = 0.010345836862635564\n",
      "Iteration 340000: Loss = 0.010237822329789868\n",
      "Iteration 345000: Loss = 0.010131493751787814\n",
      "Iteration 350000: Loss = 0.010026824698695667\n",
      "Iteration 355000: Loss = 0.009923789154925297\n",
      "Iteration 360000: Loss = 0.00982236151273836\n",
      "Iteration 365000: Loss = 0.009722516565852579\n",
      "Iteration 370000: Loss = 0.009624229503147981\n",
      "Iteration 375000: Loss = 0.009527475902471903\n",
      "Iteration 380000: Loss = 0.009432231724540961\n",
      "Iteration 385000: Loss = 0.009338473306938808\n",
      "Iteration 390000: Loss = 0.009246177358208143\n",
      "Iteration 395000: Loss = 0.009155320952034909\n",
      "Iteration 400000: Loss = 0.009065881521523808\n",
      "Iteration 405000: Loss = 0.008977836853564044\n",
      "Iteration 410000: Loss = 0.008891165083282514\n",
      "Iteration 415000: Loss = 0.008805844688584865\n",
      "Iteration 420000: Loss = 0.008721854484781367\n",
      "Iteration 425000: Loss = 0.008639173619297497\n",
      "Iteration 430000: Loss = 0.008557781566467363\n",
      "Iteration 435000: Loss = 0.00847765812240875\n",
      "Iteration 440000: Loss = 0.008398783399978347\n",
      "Iteration 445000: Loss = 0.008321137823806219\n",
      "Iteration 450000: Loss = 0.008244702125408036\n",
      "Iteration 455000: Loss = 0.00816945733837431\n",
      "Iteration 460000: Loss = 0.00809538479363423\n",
      "Iteration 465000: Loss = 0.008022466114794614\n",
      "Iteration 470000: Loss = 0.00795068321355146\n",
      "Iteration 475000: Loss = 0.007880018285173387\n",
      "Iteration 480000: Loss = 0.007810453804056248\n",
      "Iteration 485000: Loss = 0.007741972519347087\n",
      "Iteration 490000: Loss = 0.007674557450636894\n",
      "Iteration 495000: Loss = 0.00760819188372073\n",
      "Iteration 500000: Loss = 0.007542859366424446\n",
      "Iteration 505000: Loss = 0.007478543704496831\n",
      "Iteration 510000: Loss = 0.007415228957566087\n",
      "Iteration 515000: Loss = 0.0073528994351597125\n",
      "Iteration 520000: Loss = 0.007291539692786809\n",
      "Iteration 525000: Loss = 0.007231134528081692\n",
      "Iteration 530000: Loss = 0.00717166897700834\n",
      "Iteration 535000: Loss = 0.007113128310123824\n",
      "Iteration 540000: Loss = 0.0070554980289006105\n",
      "Iteration 545000: Loss = 0.006998763862106454\n",
      "Iteration 550000: Loss = 0.006942911762241095\n",
      "Iteration 555000: Loss = 0.006887927902028663\n",
      "Iteration 560000: Loss = 0.006833798670965601\n",
      "Iteration 565000: Loss = 0.006780510671921642\n",
      "Iteration 570000: Loss = 0.006728050717795306\n",
      "Iteration 575000: Loss = 0.00667640582822087\n",
      "Iteration 580000: Loss = 0.006625563226327596\n",
      "Iteration 585000: Loss = 0.006575510335549326\n",
      "Iteration 590000: Loss = 0.006526234776484467\n",
      "Iteration 595000: Loss = 0.006477724363804778\n",
      "Iteration 600000: Loss = 0.006429967103212985\n",
      "Iteration 605000: Loss = 0.006382951188448044\n",
      "Iteration 610000: Loss = 0.006336664998337193\n",
      "Iteration 615000: Loss = 0.006291097093894191\n",
      "Iteration 620000: Loss = 0.00624623621546333\n",
      "Iteration 625000: Loss = 0.0062020712799079015\n",
      "Iteration 630000: Loss = 0.006158591377843008\n",
      "Iteration 635000: Loss = 0.006115785770911525\n",
      "Iteration 640000: Loss = 0.006073643889103031\n",
      "Iteration 645000: Loss = 0.006032155328114324\n",
      "Iteration 650000: Loss = 0.005991309846751931\n",
      "Iteration 655000: Loss = 0.005951097364374859\n",
      "Iteration 660000: Loss = 0.005911507958377541\n",
      "Iteration 665000: Loss = 0.005872531861712347\n",
      "Iteration 670000: Loss = 0.005834159460450972\n",
      "Iteration 675000: Loss = 0.005796381291383708\n",
      "Iteration 680000: Loss = 0.0057591880396569576\n",
      "Iteration 685000: Loss = 0.005722570536447231\n",
      "Iteration 690000: Loss = 0.0056865197566717185\n",
      "Iteration 695000: Loss = 0.0056510268167350676\n",
      "Iteration 700000: Loss = 0.0056160829723111375\n",
      "Iteration 705000: Loss = 0.005581679616159634\n",
      "Iteration 710000: Loss = 0.005547808275977033\n",
      "Iteration 715000: Loss = 0.005514460612281283\n",
      "Iteration 720000: Loss = 0.005481628416329246\n",
      "Iteration 725000: Loss = 0.005449303608067446\n",
      "Iteration 730000: Loss = 0.005417478234114337\n",
      "Iteration 735000: Loss = 0.0053861444657744275\n",
      "Iteration 740000: Loss = 0.0053552945970836196\n",
      "Iteration 745000: Loss = 0.005324921042885441\n",
      "Iteration 750000: Loss = 0.005295016336936571\n",
      "Iteration 755000: Loss = 0.005265573130042929\n",
      "Iteration 760000: Loss = 0.005236584188224755\n",
      "Iteration 765000: Loss = 0.005208042390910249\n",
      "Iteration 770000: Loss = 0.0051799407291575625\n",
      "Iteration 775000: Loss = 0.005152272303904962\n",
      "Iteration 780000: Loss = 0.005125030324248095\n",
      "Iteration 785000: Loss = 0.005098208105744575\n",
      "Iteration 790000: Loss = 0.0050717990687445666\n",
      "Iteration 795000: Loss = 0.0050457967367483845\n",
      "Iteration 800000: Loss = 0.005020194734789167\n",
      "Iteration 805000: Loss = 0.00499498678784109\n",
      "Iteration 810000: Loss = 0.0049701667192527344\n",
      "Iteration 815000: Loss = 0.004945728449204742\n",
      "Iteration 820000: Loss = 0.0049216659931918295\n",
      "Iteration 825000: Loss = 0.004897973460528451\n",
      "Iteration 830000: Loss = 0.0048746450528780625\n",
      "Iteration 835000: Loss = 0.004851675062805334\n",
      "Iteration 840000: Loss = 0.004829057872350972\n",
      "Iteration 845000: Loss = 0.0048067879516292015\n",
      "Iteration 850000: Loss = 0.004784859857446796\n",
      "Iteration 855000: Loss = 0.004763268231944288\n",
      "Iteration 860000: Loss = 0.004742007801257696\n",
      "Iteration 865000: Loss = 0.004721073374202284\n",
      "Iteration 870000: Loss = 0.004700459840975862\n",
      "Iteration 875000: Loss = 0.004680162171883427\n",
      "Iteration 880000: Loss = 0.004660175416080901\n",
      "Iteration 885000: Loss = 0.0046404947003392425\n",
      "Iteration 890000: Loss = 0.004621115227827537\n",
      "Iteration 895000: Loss = 0.004602032276915311\n",
      "Iteration 900000: Loss = 0.0045832411999936415\n",
      "Iteration 905000: Loss = 0.004564737422314653\n",
      "Iteration 910000: Loss = 0.004546516440849298\n",
      "Iteration 915000: Loss = 0.004528573823163074\n",
      "Iteration 920000: Loss = 0.004510905206309147\n",
      "Iteration 925000: Loss = 0.0044935062957391836\n",
      "Iteration 930000: Loss = 0.0044763728642308355\n",
      "Iteration 935000: Loss = 0.004459500750832484\n",
      "Iteration 940000: Loss = 0.004442885859824057\n",
      "Iteration 945000: Loss = 0.004426524159694702\n",
      "Iteration 950000: Loss = 0.004410411682135824\n",
      "Iteration 955000: Loss = 0.0043945445210505215\n",
      "Iteration 960000: Loss = 0.004378918831578215\n",
      "Iteration 965000: Loss = 0.004363530829134448\n",
      "Iteration 970000: Loss = 0.004348376788466271\n",
      "Iteration 975000: Loss = 0.004333453042721766\n",
      "Iteration 980000: Loss = 0.004318755982534761\n",
      "Iteration 985000: Loss = 0.004304282055123371\n",
      "Iteration 990000: Loss = 0.004290027763403095\n",
      "Iteration 995000: Loss = 0.004275989665113594\n"
     ]
    }
   ],
   "source": [
    "for i in range(iterations):\n",
    "    y_pred = polynomial(x_normalized, a)\n",
    "    error = y_pred - y_true\n",
    "    \n",
    "    #梯度计算\n",
    "    gradients = [\n",
    "        np.mean(error),  \n",
    "        np.mean(error * x_normalized),  \n",
    "        np.mean(error * x_normalized**2),  \n",
    "        np.mean(error * x_normalized**3),  \n",
    "        np.mean(error * x_normalized**4),  \n",
    "        np.mean(error * x_normalized**5)   \n",
    "    ]\n",
    "    \n",
    "    ##参数更新\n",
    "    for j in range(6):\n",
    "        a[j] -= learning_rate * gradients[j]\n",
    "    \n",
    "    \n",
    "    if i % 5000 == 0:\n",
    "        loss = loss_func(y_pred, y_true)\n",
    "        print(f\"Iteration {i}: Loss = {loss}\")"
   ]
  },
  {
   "cell_type": "markdown",
   "metadata": {},
   "source": [
    "### 参数更新"
   ]
  },
  {
   "cell_type": "markdown",
   "metadata": {},
   "source": [
    "### 绘图"
   ]
  },
  {
   "cell_type": "code",
   "execution_count": 84,
   "metadata": {},
   "outputs": [],
   "source": [
    "#生成点拟合训练图像\n",
    "x_test = np.linspace(0, 2 * np.pi, 100)\n",
    "x_test_normalized = (x_test - x_test.min()) / (x_test.max() - x_test.min())\n",
    "y_test_true = np.sin(x_test)"
   ]
  },
  {
   "cell_type": "code",
   "execution_count": 85,
   "metadata": {},
   "outputs": [
    {
     "data": {
      "image/png": "[encoded data removed]",
      "text/plain": [
       "<Figure size 640x480 with 1 Axes>"
      ]
     },
     "metadata": {},
     "output_type": "display_data"
    },
    {
     "name": "stdout",
     "output_type": "stream",
     "text": [
      "Final parameters: [ 5.95774531e-03  9.30316244e+00 -2.41605473e+01  4.76910286e+00\n",
      "  1.47955963e+01 -4.56033079e+00]\n"
     ]
    }
   ],
   "source": [
    "plt.plot(x_test, y_test_true, label='True sin(x)', color='blue')\n",
    "plt.plot(x_test, polynomial(x_test_normalized, a), label='Fitted Polynomial', color='red', linestyle='--')\n",
    "plt.legend()\n",
    "plt.title(\"sin(x) [0, 2π] \")\n",
    "plt.xlabel(\"x\")\n",
    "plt.ylabel(\"y\")\n",
    "plt.grid(True)\n",
    "plt.show()\n",
    "\n",
    "#输出最终的参数值\n",
    "print(\"Final parameters:\", a)"
   ]
  }
 ],
 "metadata": {
  "kernelspec": {
   "display_name": "common",
   "language": "python",
   "name": "python3"
  },
  "language_info": {
   "codemirror_mode": {
    "name": "ipython",
    "version": 3
   },
   "file_extension": ".py",
   "mimetype": "text/x-python",
   "name": "python",
   "nbconvert_exporter": "python",
   "pygments_lexer": "ipython3",
   "version": "3.10.14"
  }
 },
 "nbformat": 4,
 "nbformat_minor": 2
}
